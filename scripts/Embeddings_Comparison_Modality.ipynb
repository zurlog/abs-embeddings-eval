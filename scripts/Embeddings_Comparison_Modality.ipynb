{
 "cells": [
  {
   "attachments": {},
   "cell_type": "markdown",
   "metadata": {},
   "source": [
    "## **Comparing the Embeddings produced by different PTMs**"
   ]
  },
  {
   "attachments": {},
   "cell_type": "markdown",
   "metadata": {},
   "source": [
    "### *Notebook Outline*\n",
    "\n",
    "- [**Feature Engineering**](#Features)\n",
    "- [**Loading [CLS] Embeddings**](#CLS)\n",
    "- [**Model's Parameters Tuning**](#tuning)\n",
    "- [**Performing the Comparison**](#CompareCLS)\n",
    "- [**Loading [SEP] Embeddings**](#SEP)\n",
    "- [**Performing the Comparison**](#CompareSEP)\n",
    "- [**Loading POOL Embeddings**](#POOL)\n",
    "- [**Performing the Comparison**](#ComparePOOL)\n",
    "\n",
    "---"
   ]
  },
  {
   "cell_type": "code",
   "execution_count": 1,
   "metadata": {},
   "outputs": [],
   "source": [
    "%run setup.ipynb\n",
    "%load_ext memory_profiler"
   ]
  },
  {
   "cell_type": "code",
   "execution_count": 2,
   "metadata": {},
   "outputs": [
    {
     "name": "stdout",
     "output_type": "stream",
     "text": [
      "<class 'pandas.core.frame.DataFrame'>\n",
      "Index: 560 entries, 32804639 to 33046370\n",
      "Data columns (total 24 columns):\n",
      " #   Column                    Non-Null Count  Dtype         \n",
      "---  ------                    --------------  -----         \n",
      " 0   DOI                       434 non-null    object        \n",
      " 1   Latest Version            560 non-null    object        \n",
      " 2   PMCID                     324 non-null    object        \n",
      " 3   PMID                      368 non-null    float64       \n",
      " 4   Pub Year                  560 non-null    int64         \n",
      " 5   Publication Date          560 non-null    datetime64[ns]\n",
      " 6   Publication Types         560 non-null    object        \n",
      " 7   Source                    560 non-null    object        \n",
      " 8   Peer_Review               560 non-null    int64         \n",
      " 9   Title                     560 non-null    object        \n",
      " 10  Cleaned_Abs               560 non-null    object        \n",
      " 11  Lenght_Abs                560 non-null    int64         \n",
      " 12  Condition                 559 non-null    object        \n",
      " 13  Total Citations           366 non-null    float64       \n",
      " 14  Journal Name              367 non-null    object        \n",
      " 15  Visualization Categories  560 non-null    object        \n",
      " 16  influence_score           357 non-null    float64       \n",
      " 17  popularity_alt_score      357 non-null    float64       \n",
      " 18  popularity_score          357 non-null    float64       \n",
      " 19  influence_alt_score       357 non-null    float64       \n",
      " 20  tweets_count              357 non-null    float64       \n",
      " 21  Data_origin               507 non-null    object        \n",
      " 22  Task_(primary)            560 non-null    object        \n",
      " 23  Modality                  560 non-null    object        \n",
      "dtypes: datetime64[ns](1), float64(7), int64(3), object(13)\n",
      "memory usage: 109.4+ KB\n",
      "\n",
      "# of unique PMCID values: 324\n",
      "# of unique PMID values: 368\n",
      "# of unique DOI values: 434\n",
      "# of unique Title values: 560\n"
     ]
    }
   ],
   "source": [
    "data = pd.read_csv('..\\data\\subset_wlabels.csv').set_index('System ID')\n",
    "data['Publication Date'] = pd.to_datetime(data['Publication Date'])\n",
    "# Fix missing values coding in the data_origin column\n",
    "data['Data_origin'] = data['Data_origin'].replace('N.A.', pd.NA)\n",
    "data.sort_values(by='Lenght_Abs', inplace=True)\n",
    "# -\n",
    "\n",
    "data.info()\n",
    "print()\n",
    "print(\"# of unique PMCID values:\", data['PMCID'].nunique())\n",
    "print(\"# of unique PMID values:\", data['PMID'].nunique())\n",
    "print(\"# of unique DOI values:\", data['DOI'].nunique())\n",
    "print(\"# of unique Title values:\", data['Title'].nunique())"
   ]
  },
  {
   "cell_type": "markdown",
   "metadata": {},
   "source": []
  },
  {
   "attachments": {},
   "cell_type": "markdown",
   "metadata": {},
   "source": [
    "### **Feature Engineering** <a id=\"Features\"></a>"
   ]
  },
  {
   "cell_type": "markdown",
   "metadata": {},
   "source": [
    "In this part of the analysis, we perform various data transformations to enrich our dataset. Let's take a look at the steps:\n",
    "\n",
    "1. **Concatenate Task and Modality**: We create a new label column called \"Task_Modality\" by combining the modified \"Task_(primary)\" and \"Modality\" columns using the string ' with '.\n",
    "\n",
    "2. **Remove Numeric Prefixes**: We remove numeric prefixes from the \"Task_(primary)\" column which were present in the original categorization from Born et al. (2020).\n",
    "\n",
    "3. **Update Task Modality for Reviews**: For rows where \"Task_(primary)\" is equal to 'Review', we replace 'with' with 'on' in the \"Task_Modality\" column.\n",
    "\n",
    "4. **Initialize Record Labels**: We initialize the \"RecordLabel\" column by combining the \"Title\" and a line break. This will be used for future interactive visualization.\n",
    "\n",
    "5. **Fill Missing DOI Information**: We iterate through the rows and fill in the \"RecordLabel\" column with relevant information. If the \"DOI\" is missing, we check for \"PMCID\" and \"PMID\" values. If present, we include them in the \"RecordLabel\". Otherwise, we concatenate \"Title\" with \"Source\" and \"Publication Date\".\n"
   ]
  },
  {
   "cell_type": "code",
   "execution_count": 3,
   "metadata": {},
   "outputs": [
    {
     "name": "stderr",
     "output_type": "stream",
     "text": [
      "C:\\Users\\giova\\AppData\\Local\\Temp\\ipykernel_7420\\1868772443.py:2: FutureWarning:\n",
      "\n",
      "The default value of regex will change from True to False in a future version.\n",
      "\n"
     ]
    },
    {
     "data": {
      "text/html": [
       "<div>\n",
       "<style scoped>\n",
       "    .dataframe tbody tr th:only-of-type {\n",
       "        vertical-align: middle;\n",
       "    }\n",
       "\n",
       "    .dataframe tbody tr th {\n",
       "        vertical-align: top;\n",
       "    }\n",
       "\n",
       "    .dataframe thead th {\n",
       "        text-align: right;\n",
       "    }\n",
       "</style>\n",
       "<table border=\"1\" class=\"dataframe\">\n",
       "  <thead>\n",
       "    <tr style=\"text-align: right;\">\n",
       "      <th></th>\n",
       "      <th>DOI</th>\n",
       "      <th>Latest Version</th>\n",
       "      <th>PMCID</th>\n",
       "      <th>PMID</th>\n",
       "      <th>Pub Year</th>\n",
       "      <th>Publication Date</th>\n",
       "      <th>Publication Types</th>\n",
       "      <th>Source</th>\n",
       "      <th>Peer_Review</th>\n",
       "      <th>Title</th>\n",
       "      <th>...</th>\n",
       "      <th>influence_score</th>\n",
       "      <th>popularity_alt_score</th>\n",
       "      <th>popularity_score</th>\n",
       "      <th>influence_alt_score</th>\n",
       "      <th>tweets_count</th>\n",
       "      <th>Data_origin</th>\n",
       "      <th>Task_(primary)</th>\n",
       "      <th>Modality</th>\n",
       "      <th>Task_Modality</th>\n",
       "      <th>RecordLabel</th>\n",
       "    </tr>\n",
       "    <tr>\n",
       "      <th>System ID</th>\n",
       "      <th></th>\n",
       "      <th></th>\n",
       "      <th></th>\n",
       "      <th></th>\n",
       "      <th></th>\n",
       "      <th></th>\n",
       "      <th></th>\n",
       "      <th></th>\n",
       "      <th></th>\n",
       "      <th></th>\n",
       "      <th></th>\n",
       "      <th></th>\n",
       "      <th></th>\n",
       "      <th></th>\n",
       "      <th></th>\n",
       "      <th></th>\n",
       "      <th></th>\n",
       "      <th></th>\n",
       "      <th></th>\n",
       "      <th></th>\n",
       "      <th></th>\n",
       "    </tr>\n",
       "  </thead>\n",
       "  <tbody>\n",
       "    <tr>\n",
       "      <th>32804639</th>\n",
       "      <td>10.1109/MPULS.2020.3008354</td>\n",
       "      <td>Yes</td>\n",
       "      <td>NaN</td>\n",
       "      <td>32804639.0</td>\n",
       "      <td>2020</td>\n",
       "      <td>2020-08-18</td>\n",
       "      <td>Journal Article</td>\n",
       "      <td>Peer reviewed (PubMed)</td>\n",
       "      <td>1</td>\n",
       "      <td>ai-driven covid-19 tools to interpret quantify...</td>\n",
       "      <td>...</td>\n",
       "      <td>0.000004</td>\n",
       "      <td>49.752</td>\n",
       "      <td>0.000003</td>\n",
       "      <td>185.0</td>\n",
       "      <td>0.0</td>\n",
       "      <td>NaN</td>\n",
       "      <td>Review</td>\n",
       "      <td>Multimodal</td>\n",
       "      <td>Review on Multimodal</td>\n",
       "      <td>ai-driven covid-19 tools to interpret quantify...</td>\n",
       "    </tr>\n",
       "    <tr>\n",
       "      <th>36237723</th>\n",
       "      <td>10.3348/jksr.2020.0138</td>\n",
       "      <td>Yes</td>\n",
       "      <td>PMC9431829</td>\n",
       "      <td>36237723.0</td>\n",
       "      <td>2020</td>\n",
       "      <td>2020-11-01</td>\n",
       "      <td>English Abstract;Journal Article;Review</td>\n",
       "      <td>Peer reviewed (PubMed)</td>\n",
       "      <td>1</td>\n",
       "      <td>role of chest radiographs and ct scans and the...</td>\n",
       "      <td>...</td>\n",
       "      <td>0.000002</td>\n",
       "      <td>27.552</td>\n",
       "      <td>0.000002</td>\n",
       "      <td>86.0</td>\n",
       "      <td>-1.0</td>\n",
       "      <td>NaN</td>\n",
       "      <td>Review</td>\n",
       "      <td>Multimodal</td>\n",
       "      <td>Review on Multimodal</td>\n",
       "      <td>role of chest radiographs and ct scans and the...</td>\n",
       "    </tr>\n",
       "  </tbody>\n",
       "</table>\n",
       "<p>2 rows × 26 columns</p>\n",
       "</div>"
      ],
      "text/plain": [
       "                                  DOI Latest Version       PMCID        PMID  \\\n",
       "System ID                                                                      \n",
       "32804639   10.1109/MPULS.2020.3008354            Yes         NaN  32804639.0   \n",
       "36237723       10.3348/jksr.2020.0138            Yes  PMC9431829  36237723.0   \n",
       "\n",
       "           Pub Year Publication Date                        Publication Types  \\\n",
       "System ID                                                                       \n",
       "32804639       2020       2020-08-18                          Journal Article   \n",
       "36237723       2020       2020-11-01  English Abstract;Journal Article;Review   \n",
       "\n",
       "                           Source  Peer_Review  \\\n",
       "System ID                                        \n",
       "32804639   Peer reviewed (PubMed)            1   \n",
       "36237723   Peer reviewed (PubMed)            1   \n",
       "\n",
       "                                                       Title  ...  \\\n",
       "System ID                                                     ...   \n",
       "32804639   ai-driven covid-19 tools to interpret quantify...  ...   \n",
       "36237723   role of chest radiographs and ct scans and the...  ...   \n",
       "\n",
       "          influence_score  popularity_alt_score popularity_score  \\\n",
       "System ID                                                          \n",
       "32804639         0.000004                49.752         0.000003   \n",
       "36237723         0.000002                27.552         0.000002   \n",
       "\n",
       "           influence_alt_score tweets_count Data_origin  Task_(primary)  \\\n",
       "System ID                                                                 \n",
       "32804639                 185.0          0.0         NaN          Review   \n",
       "36237723                  86.0         -1.0         NaN          Review   \n",
       "\n",
       "             Modality         Task_Modality  \\\n",
       "System ID                                     \n",
       "32804639   Multimodal  Review on Multimodal   \n",
       "36237723   Multimodal  Review on Multimodal   \n",
       "\n",
       "                                                 RecordLabel  \n",
       "System ID                                                     \n",
       "32804639   ai-driven covid-19 tools to interpret quantify...  \n",
       "36237723   role of chest radiographs and ct scans and the...  \n",
       "\n",
       "[2 rows x 26 columns]"
      ]
     },
     "execution_count": 3,
     "metadata": {},
     "output_type": "execute_result"
    }
   ],
   "source": [
    "# Concatenate the modified \"Task_(primary)\" column with \"Modality\" column using the string ' with '\n",
    "data['Task_Modality'] = (data['Task_(primary)'].str.replace(r'^\\d+\\.\\s*', '') +\n",
    "                         ' with ' +\n",
    "                         data['Modality'])\n",
    "\n",
    "# Remove numeric prefixes from 'Task_(primary)' column\n",
    "data['Task_(primary)'] = data['Task_(primary)'].str.split('.').str[-1].str.strip()\n",
    "\n",
    "# Select rows where \"Task_(primary)\" is equal to 'Review' and replace 'with' with 'on' in \"Task_Modality\" column\n",
    "data.loc[data['Task_(primary)'] == 'Review', 'Task_Modality'] = data[data['Task_(primary)'] == 'Review']['Task_Modality'].str.replace('with', 'on', case=False)\n",
    "\n",
    "# Initialize the 'RecordLabel' column with the 'Title' and a line break\n",
    "data['RecordLabel'] = data['Title'] + ' \\n' \n",
    "\n",
    "for i, row in data.iterrows():\n",
    "    if pd.isnull(row['DOI']):  # Check if 'DOI' is missing\n",
    "        if pd.notnull(row['PMCID']):  \n",
    "            # If 'PMCID' is present, add it to the 'RecordLabel'\n",
    "            data.at[i, 'RecordLabel'] += 'PMCID: ' + row['PMCID']\n",
    "        elif pd.notnull(row['PMID']):  \n",
    "            # If 'PMCID' is missing but 'PMID' is present, add 'PMID' to the 'RecordLabel'\n",
    "            data.at[i, 'RecordLabel'] += 'PMID: ' + row['PMID']\n",
    "        else:  \n",
    "            # If both 'PMCID' and 'PMID' are missing, concatenate 'Title' with 'Source' and 'Publication Date'\n",
    "            data.at[i, 'RecordLabel'] += 'Published on ' + row['Source'] + ', ' + str(row['Publication Date']).split()[0]\n",
    "    else:  \n",
    "        # If 'DOI' is present, add it to the 'RecordLabel'\n",
    "        data.at[i, 'RecordLabel'] += 'DOI: ' + row['DOI']\n",
    "\n",
    "data.head(2)"
   ]
  },
  {
   "cell_type": "code",
   "execution_count": 4,
   "metadata": {},
   "outputs": [
    {
     "name": "stdout",
     "output_type": "stream",
     "text": [
      "Task Label Frequency Table:\n",
      "X-Ray         243\n",
      "CT            197\n",
      "Multimodal     70\n",
      "Ultrasound     50\n",
      "Name: Modality, dtype: int64\n",
      "\n",
      "Task_Modality Label Frequency Table:\n",
      "Detection/Diagnosis with X-Ray                    182\n",
      "Detection/Diagnosis with CT                        83\n",
      "Review on Multimodal                               36\n",
      "Segmentation-only with CT                          34\n",
      "Detection/Diagnosis with Ultrasound                28\n",
      "Prognosis/Treatment with CT                        27\n",
      "Monitoring/Severity assessment with CT             22\n",
      "Detection/Diagnosis with Multimodal                22\n",
      "Prognosis/Treatment with X-Ray                     19\n",
      "Post-hoc with X-Ray                                17\n",
      "Post-hoc with CT                                   15\n",
      "Monitoring/Severity assessment with Ultrasound     15\n",
      "Risk identification with CT                        10\n",
      "Segmentation-only with X-Ray                        8\n",
      "Monitoring/Severity assessment with X-Ray           7\n",
      "Review on CT                                        6\n",
      "Review on X-Ray                                     6\n",
      "Monitoring/Severity assessment with Multimodal      4\n",
      "Risk identification with X-Ray                      4\n",
      "Post-hoc with Multimodal                            3\n",
      "Segmentation-only with Multimodal                   2\n",
      "Review on Ultrasound                                2\n",
      "Prognosis/Treatment with Multimodal                 2\n",
      "Segmentation-only with Ultrasound                   2\n",
      "Prognosis/Treatment with Ultrasound                 2\n",
      "Risk identification with Multimodal                 1\n",
      "Post-hoc with Ultrasound                            1\n",
      "Name: Task_Modality, dtype: int64\n"
     ]
    }
   ],
   "source": [
    "print('Task Label Frequency Table:')\n",
    "print(data['Modality'].value_counts())\n",
    "print()\n",
    "print('Task_Modality Label Frequency Table:')\n",
    "print(data['Task_Modality'].value_counts())"
   ]
  },
  {
   "attachments": {},
   "cell_type": "markdown",
   "metadata": {},
   "source": [
    "### **Loading [CLS] Embeddings**<a id=\"CLS\"></a>\n",
    "\n",
    "First we define model names with respective variable names, as well as filenames as exported in the previous .ipynb script."
   ]
  },
  {
   "cell_type": "code",
   "execution_count": 5,
   "metadata": {},
   "outputs": [],
   "source": [
    "models = [\n",
    "    'bert-base-uncased',\n",
    "    'scibert_scivocab_uncased',\n",
    "    'biobert-base-cased-v1.2',\n",
    "    'BiomedNLP-PubMedBERT-base-uncased-abstract-fulltext',\n",
    "    'covid_bert_base',\n",
    "    'COVID-SciBERT',\n",
    "    'clinicalcovid-bert-base-cased',\n",
    "    'RadBERT',\n",
    "    'specter2',\n",
    "    'specter2C', # with Classification Adapter\n",
    "    'specter2P', # with Proximity Adapter\n",
    "\n",
    "    'bert-large-cased', #LARGE\n",
    "    'biobert-large-cased-v1.1', #LARGE\n",
    "    'BiomedNLP-PubMedBERT-large-uncased-abstract', #LARGE\n",
    "    'biocovid-bert-large-cased', #LARGE\n",
    "]\n",
    "\n",
    "# Retrieving filenames as defined earlier (PICKLE)\n",
    "CLS_embeds = [model_name + '_CLS_embed.pkl' for model_name in models]\n",
    "SEP_embeds = [model_name + '_SEP_embed.pkl' for model_name in models]\n",
    "POOL_embeds = [model_name + '_POOL_embed.pkl' for model_name in models]\n",
    "\n",
    "# In Python, variable names can only contain letters, digits, underscores\n",
    "models_norm = ['BERT_base','SciBERT', 'BioBERT_Base','PubMedBERT','COVID_BERT', 'COVID_SciBERT','ClinicalCovidBERT','RadBERT','SPECTER','SPECTER_CLF','SPECTER_PRX','BERT_large','BioBERT_Large','PubMedBERT_large','BioCovidBERT']"
   ]
  },
  {
   "cell_type": "markdown",
   "metadata": {},
   "source": [
    "In this cell, we load CLS token embeddings for 15 different models. The code utilizes a loop to read each model's embeddings from a pickle file and stores them in respective variables. We then collect all Pandas Series into a list. Memory usage is measured using `%memit`.\n"
   ]
  },
  {
   "cell_type": "code",
   "execution_count": 6,
   "metadata": {},
   "outputs": [
    {
     "name": "stdout",
     "output_type": "stream",
     "text": [
      "peak memory: 733.82 MiB, increment: 0.09 MiB\n"
     ]
    }
   ],
   "source": [
    "## LOADING CLS TOKEN EMBEDDINGS (15)\n",
    "for i, model in enumerate(models_norm):\n",
    "    cls_embedding_path = os.path.join(RESULTS_PATH, 'embeddings/', CLS_embeds[i])\n",
    "    string_to_exec = f\"{model} = pd.read_pickle('{cls_embedding_path}')\"\n",
    "    exec(string_to_exec)\n",
    "%memit"
   ]
  },
  {
   "cell_type": "code",
   "execution_count": 7,
   "metadata": {},
   "outputs": [],
   "source": [
    "# Collecting all embeddings in a iterable object\n",
    "all_embeddings = [BERT_base,SciBERT,BioBERT_Base,PubMedBERT,COVID_BERT,COVID_SciBERT,ClinicalCovidBERT,RadBERT,SPECTER,SPECTER_CLF,SPECTER_PRX,BERT_large,BioBERT_Large,PubMedBERT_large,BioCovidBERT]"
   ]
  },
  {
   "cell_type": "markdown",
   "metadata": {},
   "source": [
    "### **Model's Parameters Tuning**<a id=\"tuning\"></a>"
   ]
  },
  {
   "cell_type": "markdown",
   "metadata": {},
   "source": [
    "We perform a grid search to find the optimal parameters for our K-Nearest Neighbors (KNN) classifier. We explore different values for `n_neighbors` ranging from 1 to 15 and two options for the `weights` parameter (`'uniform'` and `'distance'`). The metric used is the cosine distance, the standard choice when dealing with document vectors, as it provides a better way to capture semantic similarity.\n",
    "\n",
    "To evaluate the performance of each combination, we use stratified k-fold cross-validation with 10 folds, ensuring robustness in our results. The scoring metrics used are `'accuracy'` and `'balanced_accuracy'`. The results of the grid search are stored in a DataFrame called `best_params`, where we keep track of the best parameters for each model based on their respective embeddings.\n",
    "\n",
    "Let's see which parameters are considered optimal for each model after the grid search:\n",
    "\n"
   ]
  },
  {
   "cell_type": "code",
   "execution_count": 8,
   "metadata": {},
   "outputs": [],
   "source": [
    "%timeit\n",
    "# Perform grid search to find the optimal parameters\n",
    "grid = {\"n_neighbors\": range(1,20), \"weights\":['uniform','distance']}\n",
    "kf = StratifiedKFold(n_splits = 10, shuffle = True, random_state = 42)\n",
    "metrics = ['accuracy','balanced_accuracy']\n",
    "best_params = pd.DataFrame(index=models_norm, columns=grid.keys())  \n",
    "\n",
    "for i,embedding in enumerate(all_embeddings):\n",
    "    X = np.array(embedding.tolist())   \n",
    "    search = GridSearchCV(KNeighborsClassifier(n_jobs = -1), grid, scoring=metrics, refit='accuracy', cv=kf, n_jobs=-1)\n",
    "    search.fit(X, data['Modality'])\n",
    "\n",
    "    best_params.at[models_norm[i], 'n_neighbors'] = search.best_params_[\"n_neighbors\"]\n",
    "    best_params.at[models_norm[i], 'weights'] = search.best_params_[\"weights\"]\n"
   ]
  },
  {
   "cell_type": "code",
   "execution_count": 9,
   "metadata": {},
   "outputs": [
    {
     "data": {
      "text/html": [
       "<div>\n",
       "<style scoped>\n",
       "    .dataframe tbody tr th:only-of-type {\n",
       "        vertical-align: middle;\n",
       "    }\n",
       "\n",
       "    .dataframe tbody tr th {\n",
       "        vertical-align: top;\n",
       "    }\n",
       "\n",
       "    .dataframe thead th {\n",
       "        text-align: right;\n",
       "    }\n",
       "</style>\n",
       "<table border=\"1\" class=\"dataframe\">\n",
       "  <thead>\n",
       "    <tr style=\"text-align: right;\">\n",
       "      <th></th>\n",
       "      <th>n_neighbors</th>\n",
       "      <th>weights</th>\n",
       "    </tr>\n",
       "  </thead>\n",
       "  <tbody>\n",
       "    <tr>\n",
       "      <th>BERT_base</th>\n",
       "      <td>10</td>\n",
       "      <td>distance</td>\n",
       "    </tr>\n",
       "    <tr>\n",
       "      <th>SciBERT</th>\n",
       "      <td>18</td>\n",
       "      <td>uniform</td>\n",
       "    </tr>\n",
       "    <tr>\n",
       "      <th>BioBERT_Base</th>\n",
       "      <td>5</td>\n",
       "      <td>distance</td>\n",
       "    </tr>\n",
       "    <tr>\n",
       "      <th>PubMedBERT</th>\n",
       "      <td>14</td>\n",
       "      <td>distance</td>\n",
       "    </tr>\n",
       "    <tr>\n",
       "      <th>COVID_BERT</th>\n",
       "      <td>15</td>\n",
       "      <td>uniform</td>\n",
       "    </tr>\n",
       "    <tr>\n",
       "      <th>COVID_SciBERT</th>\n",
       "      <td>14</td>\n",
       "      <td>distance</td>\n",
       "    </tr>\n",
       "    <tr>\n",
       "      <th>ClinicalCovidBERT</th>\n",
       "      <td>7</td>\n",
       "      <td>distance</td>\n",
       "    </tr>\n",
       "    <tr>\n",
       "      <th>RadBERT</th>\n",
       "      <td>18</td>\n",
       "      <td>uniform</td>\n",
       "    </tr>\n",
       "    <tr>\n",
       "      <th>SPECTER</th>\n",
       "      <td>6</td>\n",
       "      <td>distance</td>\n",
       "    </tr>\n",
       "    <tr>\n",
       "      <th>SPECTER_CLF</th>\n",
       "      <td>9</td>\n",
       "      <td>uniform</td>\n",
       "    </tr>\n",
       "    <tr>\n",
       "      <th>SPECTER_PRX</th>\n",
       "      <td>8</td>\n",
       "      <td>uniform</td>\n",
       "    </tr>\n",
       "    <tr>\n",
       "      <th>BERT_large</th>\n",
       "      <td>13</td>\n",
       "      <td>distance</td>\n",
       "    </tr>\n",
       "    <tr>\n",
       "      <th>BioBERT_Large</th>\n",
       "      <td>13</td>\n",
       "      <td>uniform</td>\n",
       "    </tr>\n",
       "    <tr>\n",
       "      <th>PubMedBERT_large</th>\n",
       "      <td>6</td>\n",
       "      <td>uniform</td>\n",
       "    </tr>\n",
       "    <tr>\n",
       "      <th>BioCovidBERT</th>\n",
       "      <td>15</td>\n",
       "      <td>uniform</td>\n",
       "    </tr>\n",
       "  </tbody>\n",
       "</table>\n",
       "</div>"
      ],
      "text/plain": [
       "                  n_neighbors   weights\n",
       "BERT_base                  10  distance\n",
       "SciBERT                    18   uniform\n",
       "BioBERT_Base                5  distance\n",
       "PubMedBERT                 14  distance\n",
       "COVID_BERT                 15   uniform\n",
       "COVID_SciBERT              14  distance\n",
       "ClinicalCovidBERT           7  distance\n",
       "RadBERT                    18   uniform\n",
       "SPECTER                     6  distance\n",
       "SPECTER_CLF                 9   uniform\n",
       "SPECTER_PRX                 8   uniform\n",
       "BERT_large                 13  distance\n",
       "BioBERT_Large              13   uniform\n",
       "PubMedBERT_large            6   uniform\n",
       "BioCovidBERT               15   uniform"
      ]
     },
     "metadata": {},
     "output_type": "display_data"
    },
    {
     "name": "stdout",
     "output_type": "stream",
     "text": [
      "Median of best n_neighbors parameters: 13.0\n"
     ]
    }
   ],
   "source": [
    "display(best_params)\n",
    "print('Median of best n_neighbors parameters: ' + str(np.median(best_params.n_neighbors)))"
   ]
  },
  {
   "attachments": {},
   "cell_type": "markdown",
   "metadata": {},
   "source": [
    "### **Comparing [CLS] Embeddings**<a id=\"CompareCLS\"></a>"
   ]
  },
  {
   "cell_type": "code",
   "execution_count": 10,
   "metadata": {},
   "outputs": [
    {
     "name": "stdout",
     "output_type": "stream",
     "text": [
      "peak memory: 740.20 MiB, increment: 0.00 MiB\n"
     ]
    }
   ],
   "source": [
    "accuracy, balanced_acc = compare_embeddings(all_embeddings, data['Modality'], k=10, strategy='[CLS]', tables=None, save=False, n_neighbors=13)\n",
    "%memit"
   ]
  },
  {
   "attachments": {},
   "cell_type": "markdown",
   "metadata": {},
   "source": [
    "***\n",
    "\n",
    "### **Loading [SEP] Embeddings**<a id=\"SEP\"></a>"
   ]
  },
  {
   "cell_type": "code",
   "execution_count": 11,
   "metadata": {},
   "outputs": [
    {
     "name": "stdout",
     "output_type": "stream",
     "text": [
      "peak memory: 1020.96 MiB, increment: 0.00 MiB\n"
     ]
    }
   ],
   "source": [
    "## LOADING SEP TOKEN EMBEDDINGS (15)\n",
    "for i, model in enumerate(models_norm):\n",
    "    sep_embedding_path = os.path.join(RESULTS_PATH, 'embeddings/', SEP_embeds[i])\n",
    "    string_to_exec = f\"{model} = pd.read_pickle('{sep_embedding_path}')\"\n",
    "    exec(string_to_exec)\n",
    "%memit"
   ]
  },
  {
   "cell_type": "code",
   "execution_count": 12,
   "metadata": {},
   "outputs": [],
   "source": [
    "# Collecting all embeddings in a iterable object\n",
    "all_embeddings = [BERT_base,SciBERT,BioBERT_Base,PubMedBERT,COVID_BERT,COVID_SciBERT,ClinicalCovidBERT,RadBERT,SPECTER,SPECTER_CLF,SPECTER_PRX,BERT_large,BioBERT_Large,PubMedBERT_large,BioCovidBERT]"
   ]
  },
  {
   "attachments": {},
   "cell_type": "markdown",
   "metadata": {},
   "source": [
    "### **Comparing [SEP] Embeddings**<a id=\"CompareSEP\"></a>"
   ]
  },
  {
   "cell_type": "code",
   "execution_count": 13,
   "metadata": {},
   "outputs": [
    {
     "name": "stdout",
     "output_type": "stream",
     "text": [
      "peak memory: 771.13 MiB, increment: 0.01 MiB\n"
     ]
    }
   ],
   "source": [
    "accuracy, balanced_acc = compare_embeddings(all_embeddings, data['Modality'], k=10, strategy='[SEP]',\n",
    "                                             tables=[accuracy,balanced_acc],\n",
    "                                             save=False, n_neighbors=13)\n",
    "%memit"
   ]
  },
  {
   "cell_type": "markdown",
   "metadata": {},
   "source": [
    "***\n",
    "\n",
    "### **Loading POOL Embeddings**<a id=\"POOL\"></a>"
   ]
  },
  {
   "cell_type": "code",
   "execution_count": 14,
   "metadata": {},
   "outputs": [
    {
     "name": "stdout",
     "output_type": "stream",
     "text": [
      "peak memory: 1043.77 MiB, increment: 0.00 MiB\n"
     ]
    }
   ],
   "source": [
    "## LOADING POOL TOKEN EMBEDDINGS (15)\n",
    "for i, model in enumerate(models_norm):\n",
    "    pool_embedding_path = os.path.join(RESULTS_PATH, 'embeddings/', POOL_embeds[i])\n",
    "    string_to_exec = f\"{model} = pd.read_pickle('{pool_embedding_path}')\"\n",
    "    exec(string_to_exec)\n",
    "%memit"
   ]
  },
  {
   "cell_type": "code",
   "execution_count": 15,
   "metadata": {},
   "outputs": [],
   "source": [
    "# Collecting all embeddings in a iterable object\n",
    "all_embeddings = [BERT_base,SciBERT,BioBERT_Base,PubMedBERT,COVID_BERT,COVID_SciBERT,ClinicalCovidBERT,RadBERT,SPECTER,SPECTER_CLF,SPECTER_PRX,BERT_large,BioBERT_Large,PubMedBERT_large,BioCovidBERT]"
   ]
  },
  {
   "cell_type": "markdown",
   "metadata": {},
   "source": [
    "### **Comparing POOL Embeddings**<a id=\"ComparePOOL\"></a>"
   ]
  },
  {
   "cell_type": "code",
   "execution_count": 16,
   "metadata": {},
   "outputs": [
    {
     "name": "stdout",
     "output_type": "stream",
     "text": [
      "peak memory: 770.34 MiB, increment: 0.01 MiB\n"
     ]
    }
   ],
   "source": [
    "accuracy, balanced_acc = compare_embeddings(all_embeddings, data['Modality'], k=10, strategy='AVG',\n",
    "                                             tables=[accuracy,balanced_acc],\n",
    "                                             save=True, n_neighbors=13)\n",
    "%memit"
   ]
  },
  {
   "cell_type": "markdown",
   "metadata": {},
   "source": [
    "The chance-level accuracies were obtained using the `DummyClassifier ` from Scikit-Learn with `strategy=‘stratified’`. A DummyClassifier makes predictions that ignore the input features, so its accuracy values are exactly the same regardless of the embeddings provided. These scores serve as simple baselines to compare against other more complex classifiers."
   ]
  },
  {
   "cell_type": "code",
   "execution_count": 17,
   "metadata": {},
   "outputs": [
    {
     "name": "stdout",
     "output_type": "stream",
     "text": [
      "Chance-level accuracy: 0.355 (+/- 0.13)\n",
      "\n",
      "Chance-level balanced accuracy: 0.248 (+/- 0.09)\n"
     ]
    }
   ],
   "source": [
    "chance = chance_knn_accuracy(all_embeddings, data['Modality'], k=10, rs=42)\n",
    "print(\"Chance-level accuracy: %0.3f (+/- %0.2f)\" % (chance['accuracy'], chance['accuracy_std']))\n",
    "print()\n",
    "print(\"Chance-level balanced accuracy: %0.3f (+/- %0.2f)\" % (chance['ba'], chance['ba_std']))"
   ]
  },
  {
   "cell_type": "code",
   "execution_count": 18,
   "metadata": {},
   "outputs": [
    {
     "name": "stderr",
     "output_type": "stream",
     "text": [
      "C:\\Users\\giova\\AppData\\Local\\Temp\\ipykernel_7420\\694570398.py:17: FutureWarning:\n",
      "\n",
      "this method is deprecated in favour of `Styler.format(precision=..)`\n",
      "\n"
     ]
    },
    {
     "data": {
      "text/html": [
       "<style type=\"text/css\">\n",
       "#T_76146 caption {\n",
       "  font-size: 14pt;\n",
       "}\n",
       "#T_76146_row0_col0, #T_76146_row0_col1, #T_76146_row0_col2, #T_76146_row1_col0, #T_76146_row1_col1, #T_76146_row1_col2, #T_76146_row2_col0, #T_76146_row2_col1, #T_76146_row2_col2, #T_76146_row3_col0, #T_76146_row3_col1, #T_76146_row3_col2, #T_76146_row4_col0, #T_76146_row4_col2, #T_76146_row5_col0, #T_76146_row5_col1, #T_76146_row5_col2, #T_76146_row6_col0, #T_76146_row6_col1, #T_76146_row6_col2, #T_76146_row7_col0, #T_76146_row7_col1, #T_76146_row8_col0, #T_76146_row8_col2, #T_76146_row9_col0, #T_76146_row9_col1, #T_76146_row9_col2, #T_76146_row10_col1, #T_76146_row10_col2, #T_76146_row11_col1, #T_76146_row11_col2, #T_76146_row12_col0, #T_76146_row12_col1, #T_76146_row12_col2, #T_76146_row13_col0, #T_76146_row13_col1, #T_76146_row13_col2, #T_76146_row14_col0, #T_76146_row14_col1 {\n",
       "  font-size: 13pt;\n",
       "}\n",
       "#T_76146_row4_col1, #T_76146_row7_col2, #T_76146_row11_col0 {\n",
       "  font-size: 13pt;\n",
       "  background-color: #FFB6C1;\n",
       "}\n",
       "#T_76146_row8_col1, #T_76146_row10_col0, #T_76146_row14_col2 {\n",
       "  font-size: 13pt;\n",
       "  background-color: #90EE90;\n",
       "}\n",
       "</style>\n",
       "<table id=\"T_76146\">\n",
       "  <caption>k-NN Accuracy over \"Modality\" prediction</caption>\n",
       "  <thead>\n",
       "    <tr>\n",
       "      <th class=\"blank level0\" >&nbsp;</th>\n",
       "      <th id=\"T_76146_level0_col0\" class=\"col_heading level0 col0\" >[CLS]</th>\n",
       "      <th id=\"T_76146_level0_col1\" class=\"col_heading level0 col1\" >[SEP]</th>\n",
       "      <th id=\"T_76146_level0_col2\" class=\"col_heading level0 col2\" >AVG</th>\n",
       "    </tr>\n",
       "  </thead>\n",
       "  <tbody>\n",
       "    <tr>\n",
       "      <th id=\"T_76146_level0_row0\" class=\"row_heading level0 row0\" >BERT base</th>\n",
       "      <td id=\"T_76146_row0_col0\" class=\"data row0 col0\" >0.543</td>\n",
       "      <td id=\"T_76146_row0_col1\" class=\"data row0 col1\" >0.577</td>\n",
       "      <td id=\"T_76146_row0_col2\" class=\"data row0 col2\" >0.613</td>\n",
       "    </tr>\n",
       "    <tr>\n",
       "      <th id=\"T_76146_level0_row1\" class=\"row_heading level0 row1\" >SciBERT</th>\n",
       "      <td id=\"T_76146_row1_col0\" class=\"data row1 col0\" >0.582</td>\n",
       "      <td id=\"T_76146_row1_col1\" class=\"data row1 col1\" >0.564</td>\n",
       "      <td id=\"T_76146_row1_col2\" class=\"data row1 col2\" >0.636</td>\n",
       "    </tr>\n",
       "    <tr>\n",
       "      <th id=\"T_76146_level0_row2\" class=\"row_heading level0 row2\" >BioBERT Base</th>\n",
       "      <td id=\"T_76146_row2_col0\" class=\"data row2 col0\" >0.532</td>\n",
       "      <td id=\"T_76146_row2_col1\" class=\"data row2 col1\" >0.652</td>\n",
       "      <td id=\"T_76146_row2_col2\" class=\"data row2 col2\" >0.611</td>\n",
       "    </tr>\n",
       "    <tr>\n",
       "      <th id=\"T_76146_level0_row3\" class=\"row_heading level0 row3\" >PubMedBERT</th>\n",
       "      <td id=\"T_76146_row3_col0\" class=\"data row3 col0\" >0.577</td>\n",
       "      <td id=\"T_76146_row3_col1\" class=\"data row3 col1\" >0.745</td>\n",
       "      <td id=\"T_76146_row3_col2\" class=\"data row3 col2\" >0.643</td>\n",
       "    </tr>\n",
       "    <tr>\n",
       "      <th id=\"T_76146_level0_row4\" class=\"row_heading level0 row4\" >COVID BERT</th>\n",
       "      <td id=\"T_76146_row4_col0\" class=\"data row4 col0\" >0.564</td>\n",
       "      <td id=\"T_76146_row4_col1\" class=\"data row4 col1\" >0.529</td>\n",
       "      <td id=\"T_76146_row4_col2\" class=\"data row4 col2\" >0.602</td>\n",
       "    </tr>\n",
       "    <tr>\n",
       "      <th id=\"T_76146_level0_row5\" class=\"row_heading level0 row5\" >COVID SciBERT</th>\n",
       "      <td id=\"T_76146_row5_col0\" class=\"data row5 col0\" >0.645</td>\n",
       "      <td id=\"T_76146_row5_col1\" class=\"data row5 col1\" >0.605</td>\n",
       "      <td id=\"T_76146_row5_col2\" class=\"data row5 col2\" >0.627</td>\n",
       "    </tr>\n",
       "    <tr>\n",
       "      <th id=\"T_76146_level0_row6\" class=\"row_heading level0 row6\" >ClinicalCovidBERT</th>\n",
       "      <td id=\"T_76146_row6_col0\" class=\"data row6 col0\" >0.654</td>\n",
       "      <td id=\"T_76146_row6_col1\" class=\"data row6 col1\" >0.645</td>\n",
       "      <td id=\"T_76146_row6_col2\" class=\"data row6 col2\" >0.634</td>\n",
       "    </tr>\n",
       "    <tr>\n",
       "      <th id=\"T_76146_level0_row7\" class=\"row_heading level0 row7\" >RadBERT</th>\n",
       "      <td id=\"T_76146_row7_col0\" class=\"data row7 col0\" >0.579</td>\n",
       "      <td id=\"T_76146_row7_col1\" class=\"data row7 col1\" >0.579</td>\n",
       "      <td id=\"T_76146_row7_col2\" class=\"data row7 col2\" >0.582</td>\n",
       "    </tr>\n",
       "    <tr>\n",
       "      <th id=\"T_76146_level0_row8\" class=\"row_heading level0 row8\" >SPECTER</th>\n",
       "      <td id=\"T_76146_row8_col0\" class=\"data row8 col0\" >0.825</td>\n",
       "      <td id=\"T_76146_row8_col1\" class=\"data row8 col1\" >0.838</td>\n",
       "      <td id=\"T_76146_row8_col2\" class=\"data row8 col2\" >0.688</td>\n",
       "    </tr>\n",
       "    <tr>\n",
       "      <th id=\"T_76146_level0_row9\" class=\"row_heading level0 row9\" >SPECTER CLF</th>\n",
       "      <td id=\"T_76146_row9_col0\" class=\"data row9 col0\" >0.777</td>\n",
       "      <td id=\"T_76146_row9_col1\" class=\"data row9 col1\" >0.771</td>\n",
       "      <td id=\"T_76146_row9_col2\" class=\"data row9 col2\" >0.662</td>\n",
       "    </tr>\n",
       "    <tr>\n",
       "      <th id=\"T_76146_level0_row10\" class=\"row_heading level0 row10\" >SPECTER PRX</th>\n",
       "      <td id=\"T_76146_row10_col0\" class=\"data row10 col0\" >0.830</td>\n",
       "      <td id=\"T_76146_row10_col1\" class=\"data row10 col1\" >0.832</td>\n",
       "      <td id=\"T_76146_row10_col2\" class=\"data row10 col2\" >0.659</td>\n",
       "    </tr>\n",
       "    <tr>\n",
       "      <th id=\"T_76146_level0_row11\" class=\"row_heading level0 row11\" >BERT large</th>\n",
       "      <td id=\"T_76146_row11_col0\" class=\"data row11 col0\" >0.500</td>\n",
       "      <td id=\"T_76146_row11_col1\" class=\"data row11 col1\" >0.588</td>\n",
       "      <td id=\"T_76146_row11_col2\" class=\"data row11 col2\" >0.602</td>\n",
       "    </tr>\n",
       "    <tr>\n",
       "      <th id=\"T_76146_level0_row12\" class=\"row_heading level0 row12\" >BioBERT Large</th>\n",
       "      <td id=\"T_76146_row12_col0\" class=\"data row12 col0\" >0.554</td>\n",
       "      <td id=\"T_76146_row12_col1\" class=\"data row12 col1\" >0.621</td>\n",
       "      <td id=\"T_76146_row12_col2\" class=\"data row12 col2\" >0.655</td>\n",
       "    </tr>\n",
       "    <tr>\n",
       "      <th id=\"T_76146_level0_row13\" class=\"row_heading level0 row13\" >PubMedBERT large</th>\n",
       "      <td id=\"T_76146_row13_col0\" class=\"data row13 col0\" >0.570</td>\n",
       "      <td id=\"T_76146_row13_col1\" class=\"data row13 col1\" >0.613</td>\n",
       "      <td id=\"T_76146_row13_col2\" class=\"data row13 col2\" >0.604</td>\n",
       "    </tr>\n",
       "    <tr>\n",
       "      <th id=\"T_76146_level0_row14\" class=\"row_heading level0 row14\" >BioCovidBERT</th>\n",
       "      <td id=\"T_76146_row14_col0\" class=\"data row14 col0\" >0.695</td>\n",
       "      <td id=\"T_76146_row14_col1\" class=\"data row14 col1\" >0.648</td>\n",
       "      <td id=\"T_76146_row14_col2\" class=\"data row14 col2\" >0.696</td>\n",
       "    </tr>\n",
       "  </tbody>\n",
       "</table>\n"
      ],
      "text/plain": [
       "<pandas.io.formats.style.Styler at 0x21578f344f0>"
      ]
     },
     "execution_count": 18,
     "metadata": {},
     "output_type": "execute_result"
    }
   ],
   "source": [
    "df_display(accuracy, title='k-NN Accuracy over \"Modality\" prediction', highlight=True)"
   ]
  },
  {
   "cell_type": "code",
   "execution_count": 19,
   "metadata": {},
   "outputs": [
    {
     "name": "stderr",
     "output_type": "stream",
     "text": [
      "C:\\Users\\giova\\AppData\\Local\\Temp\\ipykernel_7420\\694570398.py:17: FutureWarning:\n",
      "\n",
      "this method is deprecated in favour of `Styler.format(precision=..)`\n",
      "\n"
     ]
    },
    {
     "data": {
      "text/html": [
       "<style type=\"text/css\">\n",
       "#T_972ea caption {\n",
       "  font-size: 14pt;\n",
       "}\n",
       "#T_972ea_row0_col0, #T_972ea_row0_col1, #T_972ea_row0_col2, #T_972ea_row1_col0, #T_972ea_row1_col1, #T_972ea_row1_col2, #T_972ea_row2_col0, #T_972ea_row2_col1, #T_972ea_row2_col2, #T_972ea_row3_col0, #T_972ea_row3_col1, #T_972ea_row3_col2, #T_972ea_row4_col0, #T_972ea_row4_col2, #T_972ea_row5_col0, #T_972ea_row5_col1, #T_972ea_row5_col2, #T_972ea_row6_col0, #T_972ea_row6_col1, #T_972ea_row6_col2, #T_972ea_row7_col0, #T_972ea_row7_col1, #T_972ea_row8_col0, #T_972ea_row8_col2, #T_972ea_row9_col0, #T_972ea_row9_col1, #T_972ea_row9_col2, #T_972ea_row10_col1, #T_972ea_row10_col2, #T_972ea_row11_col1, #T_972ea_row11_col2, #T_972ea_row12_col0, #T_972ea_row12_col1, #T_972ea_row12_col2, #T_972ea_row13_col0, #T_972ea_row13_col1, #T_972ea_row13_col2, #T_972ea_row14_col0, #T_972ea_row14_col1 {\n",
       "  font-size: 13pt;\n",
       "}\n",
       "#T_972ea_row4_col1, #T_972ea_row7_col2, #T_972ea_row11_col0 {\n",
       "  font-size: 13pt;\n",
       "  background-color: #FFB6C1;\n",
       "}\n",
       "#T_972ea_row8_col1, #T_972ea_row10_col0, #T_972ea_row14_col2 {\n",
       "  font-size: 13pt;\n",
       "  background-color: #90EE90;\n",
       "}\n",
       "</style>\n",
       "<table id=\"T_972ea\">\n",
       "  <caption>k-NN Balanced Accuracy over \"Modality\" prediction</caption>\n",
       "  <thead>\n",
       "    <tr>\n",
       "      <th class=\"blank level0\" >&nbsp;</th>\n",
       "      <th id=\"T_972ea_level0_col0\" class=\"col_heading level0 col0\" >[CLS]</th>\n",
       "      <th id=\"T_972ea_level0_col1\" class=\"col_heading level0 col1\" >[SEP]</th>\n",
       "      <th id=\"T_972ea_level0_col2\" class=\"col_heading level0 col2\" >AVG</th>\n",
       "    </tr>\n",
       "  </thead>\n",
       "  <tbody>\n",
       "    <tr>\n",
       "      <th id=\"T_972ea_level0_row0\" class=\"row_heading level0 row0\" >BERT base</th>\n",
       "      <td id=\"T_972ea_row0_col0\" class=\"data row0 col0\" >0.386</td>\n",
       "      <td id=\"T_972ea_row0_col1\" class=\"data row0 col1\" >0.433</td>\n",
       "      <td id=\"T_972ea_row0_col2\" class=\"data row0 col2\" >0.499</td>\n",
       "    </tr>\n",
       "    <tr>\n",
       "      <th id=\"T_972ea_level0_row1\" class=\"row_heading level0 row1\" >SciBERT</th>\n",
       "      <td id=\"T_972ea_row1_col0\" class=\"data row1 col0\" >0.439</td>\n",
       "      <td id=\"T_972ea_row1_col1\" class=\"data row1 col1\" >0.410</td>\n",
       "      <td id=\"T_972ea_row1_col2\" class=\"data row1 col2\" >0.482</td>\n",
       "    </tr>\n",
       "    <tr>\n",
       "      <th id=\"T_972ea_level0_row2\" class=\"row_heading level0 row2\" >BioBERT Base</th>\n",
       "      <td id=\"T_972ea_row2_col0\" class=\"data row2 col0\" >0.360</td>\n",
       "      <td id=\"T_972ea_row2_col1\" class=\"data row2 col1\" >0.526</td>\n",
       "      <td id=\"T_972ea_row2_col2\" class=\"data row2 col2\" >0.462</td>\n",
       "    </tr>\n",
       "    <tr>\n",
       "      <th id=\"T_972ea_level0_row3\" class=\"row_heading level0 row3\" >PubMedBERT</th>\n",
       "      <td id=\"T_972ea_row3_col0\" class=\"data row3 col0\" >0.429</td>\n",
       "      <td id=\"T_972ea_row3_col1\" class=\"data row3 col1\" >0.586</td>\n",
       "      <td id=\"T_972ea_row3_col2\" class=\"data row3 col2\" >0.501</td>\n",
       "    </tr>\n",
       "    <tr>\n",
       "      <th id=\"T_972ea_level0_row4\" class=\"row_heading level0 row4\" >COVID BERT</th>\n",
       "      <td id=\"T_972ea_row4_col0\" class=\"data row4 col0\" >0.430</td>\n",
       "      <td id=\"T_972ea_row4_col1\" class=\"data row4 col1\" >0.376</td>\n",
       "      <td id=\"T_972ea_row4_col2\" class=\"data row4 col2\" >0.449</td>\n",
       "    </tr>\n",
       "    <tr>\n",
       "      <th id=\"T_972ea_level0_row5\" class=\"row_heading level0 row5\" >COVID SciBERT</th>\n",
       "      <td id=\"T_972ea_row5_col0\" class=\"data row5 col0\" >0.499</td>\n",
       "      <td id=\"T_972ea_row5_col1\" class=\"data row5 col1\" >0.479</td>\n",
       "      <td id=\"T_972ea_row5_col2\" class=\"data row5 col2\" >0.506</td>\n",
       "    </tr>\n",
       "    <tr>\n",
       "      <th id=\"T_972ea_level0_row6\" class=\"row_heading level0 row6\" >ClinicalCovidBERT</th>\n",
       "      <td id=\"T_972ea_row6_col0\" class=\"data row6 col0\" >0.532</td>\n",
       "      <td id=\"T_972ea_row6_col1\" class=\"data row6 col1\" >0.508</td>\n",
       "      <td id=\"T_972ea_row6_col2\" class=\"data row6 col2\" >0.496</td>\n",
       "    </tr>\n",
       "    <tr>\n",
       "      <th id=\"T_972ea_level0_row7\" class=\"row_heading level0 row7\" >RadBERT</th>\n",
       "      <td id=\"T_972ea_row7_col0\" class=\"data row7 col0\" >0.380</td>\n",
       "      <td id=\"T_972ea_row7_col1\" class=\"data row7 col1\" >0.380</td>\n",
       "      <td id=\"T_972ea_row7_col2\" class=\"data row7 col2\" >0.397</td>\n",
       "    </tr>\n",
       "    <tr>\n",
       "      <th id=\"T_972ea_level0_row8\" class=\"row_heading level0 row8\" >SPECTER</th>\n",
       "      <td id=\"T_972ea_row8_col0\" class=\"data row8 col0\" >0.753</td>\n",
       "      <td id=\"T_972ea_row8_col1\" class=\"data row8 col1\" >0.767</td>\n",
       "      <td id=\"T_972ea_row8_col2\" class=\"data row8 col2\" >0.578</td>\n",
       "    </tr>\n",
       "    <tr>\n",
       "      <th id=\"T_972ea_level0_row9\" class=\"row_heading level0 row9\" >SPECTER CLF</th>\n",
       "      <td id=\"T_972ea_row9_col0\" class=\"data row9 col0\" >0.688</td>\n",
       "      <td id=\"T_972ea_row9_col1\" class=\"data row9 col1\" >0.678</td>\n",
       "      <td id=\"T_972ea_row9_col2\" class=\"data row9 col2\" >0.545</td>\n",
       "    </tr>\n",
       "    <tr>\n",
       "      <th id=\"T_972ea_level0_row10\" class=\"row_heading level0 row10\" >SPECTER PRX</th>\n",
       "      <td id=\"T_972ea_row10_col0\" class=\"data row10 col0\" >0.759</td>\n",
       "      <td id=\"T_972ea_row10_col1\" class=\"data row10 col1\" >0.761</td>\n",
       "      <td id=\"T_972ea_row10_col2\" class=\"data row10 col2\" >0.534</td>\n",
       "    </tr>\n",
       "    <tr>\n",
       "      <th id=\"T_972ea_level0_row11\" class=\"row_heading level0 row11\" >BERT large</th>\n",
       "      <td id=\"T_972ea_row11_col0\" class=\"data row11 col0\" >0.347</td>\n",
       "      <td id=\"T_972ea_row11_col1\" class=\"data row11 col1\" >0.434</td>\n",
       "      <td id=\"T_972ea_row11_col2\" class=\"data row11 col2\" >0.448</td>\n",
       "    </tr>\n",
       "    <tr>\n",
       "      <th id=\"T_972ea_level0_row12\" class=\"row_heading level0 row12\" >BioBERT Large</th>\n",
       "      <td id=\"T_972ea_row12_col0\" class=\"data row12 col0\" >0.398</td>\n",
       "      <td id=\"T_972ea_row12_col1\" class=\"data row12 col1\" >0.472</td>\n",
       "      <td id=\"T_972ea_row12_col2\" class=\"data row12 col2\" >0.513</td>\n",
       "    </tr>\n",
       "    <tr>\n",
       "      <th id=\"T_972ea_level0_row13\" class=\"row_heading level0 row13\" >PubMedBERT large</th>\n",
       "      <td id=\"T_972ea_row13_col0\" class=\"data row13 col0\" >0.403</td>\n",
       "      <td id=\"T_972ea_row13_col1\" class=\"data row13 col1\" >0.442</td>\n",
       "      <td id=\"T_972ea_row13_col2\" class=\"data row13 col2\" >0.453</td>\n",
       "    </tr>\n",
       "    <tr>\n",
       "      <th id=\"T_972ea_level0_row14\" class=\"row_heading level0 row14\" >BioCovidBERT</th>\n",
       "      <td id=\"T_972ea_row14_col0\" class=\"data row14 col0\" >0.538</td>\n",
       "      <td id=\"T_972ea_row14_col1\" class=\"data row14 col1\" >0.490</td>\n",
       "      <td id=\"T_972ea_row14_col2\" class=\"data row14 col2\" >0.583</td>\n",
       "    </tr>\n",
       "  </tbody>\n",
       "</table>\n"
      ],
      "text/plain": [
       "<pandas.io.formats.style.Styler at 0x215232eb370>"
      ]
     },
     "execution_count": 19,
     "metadata": {},
     "output_type": "execute_result"
    }
   ],
   "source": [
    "df_display(balanced_acc, title='k-NN Balanced Accuracy over \"Modality\" prediction', highlight=True)"
   ]
  }
 ],
 "metadata": {
  "kernelspec": {
   "display_name": "nlp_env",
   "language": "python",
   "name": "python3"
  },
  "language_info": {
   "codemirror_mode": {
    "name": "ipython",
    "version": 3
   },
   "file_extension": ".py",
   "mimetype": "text/x-python",
   "name": "python",
   "nbconvert_exporter": "python",
   "pygments_lexer": "ipython3",
   "version": "3.8.16"
  },
  "orig_nbformat": 4
 },
 "nbformat": 4,
 "nbformat_minor": 2
}
